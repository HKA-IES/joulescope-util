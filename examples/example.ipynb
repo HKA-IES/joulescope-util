{
 "cells": [
  {
   "metadata": {},
   "cell_type": "markdown",
   "source": [
    "# Examples\n",
    "In this document, we show how the joulescopeutil package can be used.\n",
    "\n",
    "## Characterization of multiple regions of operation\n",
    "It is possible to characterize multiple regions of operation of an embedded system. To do so, a trigger signal must be generated from one free pin of the microcontroller and connected to the general purpose input (GPI) 0 or 1 of the Joulescope. A single region is defined by a high trigger signal.\n",
    "\n",
    "The characteristics for a region are store in a Region object.\n",
    "\n",
    "There are two ways to measure these characteristics: through a Joulescope object (A) and through a one-off function (B).\n",
    "\n",
    "### A) with a Joulescope object\n",
    "When using a Joulescope object, the measured data must be explicitly stored in a file. If you do not want to keep this file (it is very big!), you can simply deleted afterwards.\n",
    "\n",
    "It should also be possible to use temporary files from the tempfile library."
   ],
   "id": "20bba75c0fcb4b61"
  },
  {
   "cell_type": "code",
   "id": "initial_id",
   "metadata": {
    "collapsed": true,
    "ExecuteTime": {
     "end_time": "2025-04-10T09:26:45.312682Z",
     "start_time": "2025-04-10T09:26:40.145843Z"
    }
   },
   "source": [
    "import os\n",
    "from joulescopeutil import Joulescope\n",
    "\n",
    "joulescope = Joulescope(trigger_gpi=0,\n",
    "                        sampling_frequency=1000000,\n",
    "                        gpio_voltage=\"3.3V\")\n",
    "\n",
    "joulescope.capture_to_file(file=\"joulescope_data.jls\",\n",
    "                           duration=4)\n",
    "regions = joulescope.get_regions_statistics(file=\"joulescope_data.jls\")\n",
    "os.unlink(\"joulescope_data.jls\")\n",
    "\n",
    "print(f\"Found {len(regions)} regions.\")\n",
    "print(\"Characteristics for the first region:\")\n",
    "print(regions[0])\n",
    "\n",
    "# Deleting the object frees the connection to the Joulescope device.\n",
    "del joulescope"
   ],
   "outputs": [
    {
     "name": "stdout",
     "output_type": "stream",
     "text": [
      "Found 80 regions.\n",
      "Characteristics for the first region:\n",
      "Region(duration=0.003055, voltage_avg=3.295532464981079, voltage_stdev=0.0006924581830389798, voltage_min=3.2932116985321045, voltage_max=3.298189878463745, current_avg=0.005320795811712742, current_stdev=0.00024752269382588565, current_min=0.004594623111188412, current_max=0.006226613651961088, power_avg=0.017534881830215454, power_stdev=0.0008162475423887372, power_min=0.015139422379434109, power_max=0.020518042147159576, energy=5.356906399130821e-05)\n"
     ]
    }
   ],
   "execution_count": 1
  },
  {
   "metadata": {},
   "cell_type": "markdown",
   "source": [
    "### B) with a one-off function\n",
    "Regions characteristics can also be obtained with a one-off function:"
   ],
   "id": "f11155daa25d74a3"
  },
  {
   "metadata": {
    "ExecuteTime": {
     "end_time": "2025-04-10T09:26:51.590627Z",
     "start_time": "2025-04-10T09:26:45.338144Z"
    }
   },
   "cell_type": "code",
   "source": [
    "import os\n",
    "from joulescopeutil import get_regions_statistics\n",
    "\n",
    "regions = get_regions_statistics(file=\"joulescope_data.jls\",\n",
    "                                 duration=4.,\n",
    "                                 trigger_gpi=0,\n",
    "                                 sampling_frequency=1000000,\n",
    "                                 gpio_voltage=\"3.3V\")\n",
    "os.unlink(\"joulescope_data.jls\")\n",
    "\n",
    "print(f\"Found {len(regions)} regions.\")\n",
    "print(\"Characteristics for the first region:\")\n",
    "print(regions[0])"
   ],
   "id": "1eb5d4730e6cea16",
   "outputs": [
    {
     "name": "stdout",
     "output_type": "stream",
     "text": [
      "Found 80 regions.\n",
      "Characteristics for the first region:\n",
      "Region(duration=0.003055, voltage_avg=3.2956149578094482, voltage_stdev=0.0006963069317862391, voltage_min=3.292997121810913, voltage_max=3.2980027198791504, current_avg=0.005325889214873314, current_stdev=0.00024148832017090172, current_min=0.004645353648811579, current_max=0.006240844260901213, power_avg=0.017552098259329796, power_stdev=0.0007962369709275663, power_min=0.015313706360757351, power_max=0.020565051585435867, energy=5.362166018225253e-05)\n"
     ]
    }
   ],
   "execution_count": 2
  },
  {
   "metadata": {
    "ExecuteTime": {
     "end_time": "2025-04-10T09:26:51.742912Z",
     "start_time": "2025-04-10T09:26:51.740763Z"
    }
   },
   "cell_type": "code",
   "source": "",
   "id": "bd9348f17b5bb4d0",
   "outputs": [],
   "execution_count": null
  }
 ],
 "metadata": {
  "kernelspec": {
   "display_name": "Python 3",
   "language": "python",
   "name": "python3"
  },
  "language_info": {
   "codemirror_mode": {
    "name": "ipython",
    "version": 2
   },
   "file_extension": ".py",
   "mimetype": "text/x-python",
   "name": "python",
   "nbconvert_exporter": "python",
   "pygments_lexer": "ipython2",
   "version": "2.7.6"
  }
 },
 "nbformat": 4,
 "nbformat_minor": 5
}
